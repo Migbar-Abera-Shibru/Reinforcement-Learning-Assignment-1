{
 "cells": [
  {
   "cell_type": "code",
   "execution_count": 1,
   "id": "a58060cc",
   "metadata": {
    "_cell_guid": "b1076dfc-b9ad-4769-8c92-a6c4dae69d19",
    "_uuid": "8f2839f25d086af736a60e9eeb907d3b93b6e0e5",
    "execution": {
     "iopub.execute_input": "2023-11-11T18:38:35.879777Z",
     "iopub.status.busy": "2023-11-11T18:38:35.879382Z",
     "iopub.status.idle": "2023-11-11T18:38:35.890989Z",
     "shell.execute_reply": "2023-11-11T18:38:35.889894Z"
    },
    "papermill": {
     "duration": 0.01937,
     "end_time": "2023-11-11T18:38:35.893442",
     "exception": false,
     "start_time": "2023-11-11T18:38:35.874072",
     "status": "completed"
    },
    "tags": []
   },
   "outputs": [],
   "source": [
    "import numpy as np\n",
    "\n",
    "# Grid world environment\n",
    "grid_size = 5\n",
    "num_actions = 4"
   ]
  },
  {
   "cell_type": "code",
   "execution_count": 2,
   "id": "ebdc122e",
   "metadata": {
    "execution": {
     "iopub.execute_input": "2023-11-11T18:38:35.903520Z",
     "iopub.status.busy": "2023-11-11T18:38:35.903112Z",
     "iopub.status.idle": "2023-11-11T18:38:35.907970Z",
     "shell.execute_reply": "2023-11-11T18:38:35.906878Z"
    },
    "papermill": {
     "duration": 0.01367,
     "end_time": "2023-11-11T18:38:35.910417",
     "exception": false,
     "start_time": "2023-11-11T18:38:35.896747",
     "status": "completed"
    },
    "tags": []
   },
   "outputs": [],
   "source": [
    "# Q-learning parameters\n",
    "num_episodes = 1000\n",
    "alpha = 0.5\n",
    "gamma = 0.9"
   ]
  },
  {
   "cell_type": "code",
   "execution_count": 3,
   "id": "29b46940",
   "metadata": {
    "execution": {
     "iopub.execute_input": "2023-11-11T18:38:35.918259Z",
     "iopub.status.busy": "2023-11-11T18:38:35.917872Z",
     "iopub.status.idle": "2023-11-11T18:38:35.923221Z",
     "shell.execute_reply": "2023-11-11T18:38:35.921964Z"
    },
    "papermill": {
     "duration": 0.012135,
     "end_time": "2023-11-11T18:38:35.925740",
     "exception": false,
     "start_time": "2023-11-11T18:38:35.913605",
     "status": "completed"
    },
    "tags": []
   },
   "outputs": [],
   "source": [
    "# Initialize Q-table\n",
    "Q = np.zeros((grid_size, grid_size, num_actions))"
   ]
  },
  {
   "cell_type": "code",
   "execution_count": 4,
   "id": "03a89d8c",
   "metadata": {
    "execution": {
     "iopub.execute_input": "2023-11-11T18:38:35.933500Z",
     "iopub.status.busy": "2023-11-11T18:38:35.933118Z",
     "iopub.status.idle": "2023-11-11T18:38:35.937980Z",
     "shell.execute_reply": "2023-11-11T18:38:35.937244Z"
    },
    "papermill": {
     "duration": 0.011141,
     "end_time": "2023-11-11T18:38:35.939966",
     "exception": false,
     "start_time": "2023-11-11T18:38:35.928825",
     "status": "completed"
    },
    "tags": []
   },
   "outputs": [],
   "source": [
    "# Define reward function\n",
    "def get_reward(state, action):\n",
    "    if state == (grid_size - 1, grid_size - 1):\n",
    "        return 10\n",
    "    else:\n",
    "        return -1"
   ]
  },
  {
   "cell_type": "code",
   "execution_count": 5,
   "id": "4480413c",
   "metadata": {
    "execution": {
     "iopub.execute_input": "2023-11-11T18:38:35.947604Z",
     "iopub.status.busy": "2023-11-11T18:38:35.947232Z",
     "iopub.status.idle": "2023-11-11T18:38:36.150433Z",
     "shell.execute_reply": "2023-11-11T18:38:36.149122Z"
    },
    "papermill": {
     "duration": 0.211018,
     "end_time": "2023-11-11T18:38:36.154036",
     "exception": false,
     "start_time": "2023-11-11T18:38:35.943018",
     "status": "completed"
    },
    "tags": []
   },
   "outputs": [],
   "source": [
    "# Q-learning algorithm\n",
    "for episode in range(num_episodes):\n",
    "    # Initialize the starting state\n",
    "    state = (0, 0)\n",
    "\n",
    "    while state != (grid_size - 1, grid_size - 1):\n",
    "        # Choose an action based on the epsilon-greedy policy\n",
    "        if np.random.rand() < 0.1:\n",
    "            action = np.random.randint(num_actions)\n",
    "        else:\n",
    "            action = np.argmax(Q[state])\n",
    "\n",
    "        # Take the action and observe the next state and reward\n",
    "        if action == 0:  # Up\n",
    "            next_state = (max(state[0] - 1, 0), state[1])\n",
    "        elif action == 1:  # Down\n",
    "            next_state = (min(state[0] + 1, grid_size - 1), state[1])\n",
    "        elif action == 2:  # Left\n",
    "            next_state = (state[0], max(state[1] - 1, 0))\n",
    "        elif action == 3:  # Right\n",
    "            next_state = (state[0], min(state[1] + 1, grid_size - 1))\n",
    "\n",
    "        reward = get_reward(next_state, action)\n",
    "\n",
    "        # Update Q-table using Q-learning update rule\n",
    "        Q[state][action] += alpha * (reward + gamma * np.max(Q[next_state]) - Q[state][action])\n",
    "\n",
    "        # Move to the next state\n",
    "        state = next_state"
   ]
  },
  {
   "cell_type": "code",
   "execution_count": 6,
   "id": "dd34266b",
   "metadata": {
    "execution": {
     "iopub.execute_input": "2023-11-11T18:38:36.162108Z",
     "iopub.status.busy": "2023-11-11T18:38:36.161706Z",
     "iopub.status.idle": "2023-11-11T18:38:36.171510Z",
     "shell.execute_reply": "2023-11-11T18:38:36.170263Z"
    },
    "papermill": {
     "duration": 0.019911,
     "end_time": "2023-11-11T18:38:36.177231",
     "exception": false,
     "start_time": "2023-11-11T18:38:36.157320",
     "status": "completed"
    },
    "tags": []
   },
   "outputs": [
    {
     "name": "stdout",
     "output_type": "stream",
     "text": [
      "Learned Q-values:\n",
      "State (0, 0):\n",
      "  Up: -1.3906559445871287\n",
      "  Down: -0.4343823217835996\n",
      "  Left: -1.3906561125547081\n",
      "  Right: -0.4340620000000006\n",
      "State (0, 1):\n",
      "  Up: -0.4340620217974215\n",
      "  Down: 0.6288198867810769\n",
      "  Left: -1.3906558036636616\n",
      "  Right: 0.6288199999999993\n",
      "State (0, 2):\n",
      "  Up: 0.6286252312088005\n",
      "  Down: 1.809799993466446\n",
      "  Left: -0.43406203496260853\n",
      "  Right: 1.8097999999999992\n",
      "State (0, 3):\n",
      "  Up: 1.809688161086695\n",
      "  Down: 3.121999999999999\n",
      "  Left: 0.6288194130779767\n",
      "  Right: 3.1219996528546163\n",
      "State (0, 4):\n",
      "  Up: 2.551164488115844\n",
      "  Down: 4.579999999999998\n",
      "  Left: -1.4825\n",
      "  Right: -1.42625\n",
      "State (1, 0):\n",
      "  Up: -2.987289439453125\n",
      "  Down: -1.4691596081542966\n",
      "  Left: -3.2004000117187497\n",
      "  Right: 0.6288120452041339\n",
      "State (1, 1):\n",
      "  Up: -3.0633219887695313\n",
      "  Down: -1.1974857421874998\n",
      "  Left: -1.003772959057164\n",
      "  Right: 1.8097999999999121\n",
      "State (1, 2):\n",
      "  Up: 0.26195384765624935\n",
      "  Down: 3.121999999999999\n",
      "  Left: -0.03789314098091512\n",
      "  Right: 2.963432617187499\n",
      "State (1, 3):\n",
      "  Up: 1.8097984279569488\n",
      "  Down: 4.5799843104816365\n",
      "  Left: 1.8097780704174342\n",
      "  Right: 4.579999999999998\n",
      "State (1, 4):\n",
      "  Up: 3.1219999045462856\n",
      "  Down: 6.199999999999999\n",
      "  Left: 3.121999998996312\n",
      "  Right: 4.579999666511734\n",
      "State (2, 0):\n",
      "  Up: -2.49775859375\n",
      "  Down: 0.5252385375976569\n",
      "  Left: -2.60559921875\n",
      "  Right: -2.4115359375\n",
      "State (2, 1):\n",
      "  Up: -2.4989468749999997\n",
      "  Down: 2.9665896677970895\n",
      "  Left: -2.154721875\n",
      "  Right: -1.9730937499999999\n",
      "State (2, 2):\n",
      "  Up: 0.02552151595828933\n",
      "  Down: -1.4381249999999999\n",
      "  Left: 1.0229381410598761\n",
      "  Right: 4.579999999999998\n",
      "State (2, 3):\n",
      "  Up: 2.5401093749999992\n",
      "  Down: 5.955757109401748\n",
      "  Left: 2.0414999999023244\n",
      "  Right: 6.199999999999999\n",
      "State (2, 4):\n",
      "  Up: 4.579997351169585\n",
      "  Down: 8.0\n",
      "  Left: 4.579999367283751\n",
      "  Right: 6.19999680519104\n",
      "State (3, 0):\n",
      "  Up: -2.0478468750000003\n",
      "  Down: -1.8861875\n",
      "  Left: -1.8549375\n",
      "  Right: 2.5307954101562506\n",
      "State (3, 1):\n",
      "  Up: -1.4825\n",
      "  Down: -1.7025000000000001\n",
      "  Left: -1.4825\n",
      "  Right: 4.566130871772766\n",
      "State (3, 2):\n",
      "  Up: -1.42625\n",
      "  Down: 6.198424339294434\n",
      "  Left: -1.4536875\n",
      "  Right: -0.975\n",
      "State (3, 3):\n",
      "  Up: 3.1912499999999233\n",
      "  Down: 3.6248626708984375\n",
      "  Left: 1.9232783317565918\n",
      "  Right: 7.999999966239557\n",
      "State (3, 4):\n",
      "  Up: 6.19999960064888\n",
      "  Down: 10.0\n",
      "  Left: 6.199998256051913\n",
      "  Right: 7.9999998807907104\n",
      "State (4, 0):\n",
      "  Up: -1.9336875\n",
      "  Down: -1.42625\n",
      "  Left: -1.42625\n",
      "  Right: -1.42625\n",
      "State (4, 1):\n",
      "  Up: -1.42625\n",
      "  Down: -1.42625\n",
      "  Left: -1.30125\n",
      "  Right: 5.347092056274414\n",
      "State (4, 2):\n",
      "  Up: -0.975\n",
      "  Down: 2.6123618125915526\n",
      "  Left: 1.5966317749023442\n",
      "  Right: 7.999842166900635\n",
      "State (4, 3):\n",
      "  Up: -0.5\n",
      "  Down: -0.5\n",
      "  Left: -0.725\n",
      "  Right: 9.999995231628418\n",
      "State (4, 4):\n",
      "  Up: 0.0\n",
      "  Down: 0.0\n",
      "  Left: 0.0\n",
      "  Right: 0.0\n"
     ]
    }
   ],
   "source": [
    "# Print the learned Q-values\n",
    "print(\"Learned Q-values:\")\n",
    "for i in range(grid_size):\n",
    "    for j in range(grid_size):\n",
    "        print(f\"State ({i}, {j}):\")\n",
    "        print(\"  Up:\", Q[i][j][0])\n",
    "        print(\"  Down:\", Q[i][j][1])\n",
    "        print(\"  Left:\", Q[i][j][2])\n",
    "        print(\"  Right:\", Q[i][j][3])"
   ]
  }
 ],
 "metadata": {
  "kernelspec": {
   "display_name": "Python 3",
   "language": "python",
   "name": "python3"
  },
  "language_info": {
   "codemirror_mode": {
    "name": "ipython",
    "version": 3
   },
   "file_extension": ".py",
   "mimetype": "text/x-python",
   "name": "python",
   "nbconvert_exporter": "python",
   "pygments_lexer": "ipython3",
   "version": "3.10.12"
  },
  "papermill": {
   "default_parameters": {},
   "duration": 4.729626,
   "end_time": "2023-11-11T18:38:36.500355",
   "environment_variables": {},
   "exception": null,
   "input_path": "__notebook__.ipynb",
   "output_path": "__notebook__.ipynb",
   "parameters": {},
   "start_time": "2023-11-11T18:38:31.770729",
   "version": "2.4.0"
  }
 },
 "nbformat": 4,
 "nbformat_minor": 5
}
